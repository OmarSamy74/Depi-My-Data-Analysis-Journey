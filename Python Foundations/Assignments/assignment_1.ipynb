{
  "nbformat": 4,
  "nbformat_minor": 0,
  "metadata": {
    "colab": {
      "provenance": []
    },
    "kernelspec": {
      "name": "python3",
      "display_name": "Python 3"
    },
    "language_info": {
      "name": "python"
    }
  },
  "cells": [
    {
      "cell_type": "code",
      "execution_count": 1,
      "metadata": {
        "colab": {
          "base_uri": "https://localhost:8080/"
        },
        "id": "w7yOn14Rs_fd",
        "outputId": "45d6a8dc-a56e-4d41-92dd-8f621e8ee30a"
      },
      "outputs": [
        {
          "output_type": "stream",
          "name": "stdout",
          "text": [
            "Integer variable: 10 (type: <class 'int'>)\n",
            "Float variable: 3.14 (type: <class 'float'>)\n",
            "String variable: 'Hello' (type: <class 'str'>)\n",
            "OMAR SAMY\n",
            "Addition: 27\n",
            "Subtraction: 13\n",
            "Multiplication: 140\n",
            "Division: 2.857142857142857\n",
            "Modulo: 6\n",
            "['Pizza', 'Sushi', 'Pasta', 'Ice Cream', 'Burgers']\n",
            "Third favorite food: Pasta\n",
            "{'name': 'omar', 'age': 25, 'grade': 'A'}\n",
            "Enter the first number: 1\n",
            "Enter the second number: 2\n",
            "Sum: 3\n",
            "Difference: -1\n",
            "Product: 2\n",
            "Division: 0.5\n",
            "Not Divisible\n",
            "amazing\n",
            "Python\n",
            "Learning Python is awesome!\n"
          ]
        }
      ],
      "source": [
        "integer_var = 10\n",
        "float_var = 3.14\n",
        "string_var = \"Hello\"\n",
        "\n",
        "print(f\"Integer variable: {integer_var} (type: {type(integer_var)})\")\n",
        "print(f\"Float variable: {float_var} (type: {type(float_var)})\")\n",
        "print(f\"String variable: '{string_var}' (type: {type(string_var)})\")\n",
        "\n",
        "first_name = \"Omar\"\n",
        "last_name = \"samy\"\n",
        "full_name = f\"{first_name} {last_name}\".upper()\n",
        "print(full_name)\n",
        "\n",
        "a = 20\n",
        "b = 7\n",
        "print(f\"Addition: {a + b}\")\n",
        "print(f\"Subtraction: {a - b}\")\n",
        "print(f\"Multiplication: {a * b}\")\n",
        "print(f\"Division: {a / b}\")\n",
        "print(f\"Modulo: {a % b}\")\n",
        "\n",
        "favorite_foods = [\"Pizza\", \"Sushi\", \"Pasta\", \"Ice Cream\", \"Burgers\"]\n",
        "print(favorite_foods)\n",
        "print(f\"Third favorite food: {favorite_foods[2]}\")\n",
        "\n",
        "student = {\n",
        "    \"name\": \"omar\",\n",
        "    \"age\": 25,\n",
        "    \"grade\": \"A\"\n",
        "}\n",
        "print(student)\n",
        "\n",
        "num1 = int(input(\"Enter the first number: \"))\n",
        "num2 = int(input(\"Enter the second number: \"))\n",
        "\n",
        "print(f\"Sum: {num1 + num2}\")\n",
        "print(f\"Difference: {num1 - num2}\")\n",
        "print(f\"Product: {num1 * num2}\")\n",
        "print(f\"Division: {num1 / num2}\")\n",
        "\n",
        "if num1 % num2 == 0:\n",
        "    print(\"Divisible\")\n",
        "else:\n",
        "    print(\"Not Divisible\")\n",
        "text = \"Python is amazing\"\n",
        "print(text[10:])\n",
        "\n",
        "sentence = \"Learning Python is fun!\"\n",
        "print(sentence[9:15])\n",
        "\n",
        "new_sentence = sentence.replace(\"fun\", \"awesome\")\n",
        "print(new_sentence)\n"
      ]
    }
  ]
}