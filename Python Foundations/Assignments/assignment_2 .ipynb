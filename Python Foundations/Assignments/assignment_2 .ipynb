{
  "nbformat": 4,
  "nbformat_minor": 0,
  "metadata": {
    "colab": {
      "provenance": []
    },
    "kernelspec": {
      "name": "python3",
      "display_name": "Python 3"
    },
    "language_info": {
      "name": "python"
    }
  },
  "cells": [
    {
      "cell_type": "code",
      "execution_count": 1,
      "metadata": {
        "colab": {
          "base_uri": "https://localhost:8080/"
        },
        "id": "buE2b8W7s-FP",
        "outputId": "0814b5e3-1222-4e8d-b260-c8e7f0fac6ab"
      },
      "outputs": [
        {
          "output_type": "stream",
          "name": "stdout",
          "text": [
            "First 5 elements: [1, 3, 5, 7, 9]\n",
            "Last 3 elements: [15, 17, 19]\n",
            "Elements from index 3 to 7: [7, 9, 11, 13, 15]\n"
          ]
        }
      ],
      "source": [
        "# Part1 Q1\n",
        "integers = [1, 3, 5, 7, 9, 11, 13, 15, 17, 19]\n",
        "first_five = integers[:5]\n",
        "print(\"First 5 elements:\", first_five)\n",
        "last_three = integers[-3:]\n",
        "print(\"Last 3 elements:\", last_three)\n",
        "middle_section = integers[3:8]\n",
        "print(\"Elements from index 3 to 7:\", middle_section)\n",
        "\n"
      ]
    },
    {
      "cell_type": "code",
      "source": [
        "# part1 Q2\n",
        "fruits = [\"Apple\", \"Banana\", \"Mango\", \"Date\", \"Pomegranate\"]\n",
        "fruits.append(\"Dragon fruit\")\n",
        "fruits.append(\"Grape\")\n",
        "#another way to append\n",
        "fruits.extend([\"A\",\"B\"])\n",
        "fruits.pop()\n",
        "\n",
        "print(\"Updated list of fruits:\", fruits)\n"
      ],
      "metadata": {
        "colab": {
          "base_uri": "https://localhost:8080/"
        },
        "id": "_WVuvPTUtQ59",
        "outputId": "d710ee4f-b314-49da-9c5b-8842a2585eb0"
      },
      "execution_count": 5,
      "outputs": [
        {
          "output_type": "stream",
          "name": "stdout",
          "text": [
            "Updated list of fruits: ['Apple', 'Banana', 'Mango', 'Date', 'Pomegranate', 'Dragon fruit', 'Grape', 'A']\n"
          ]
        }
      ]
    },
    {
      "cell_type": "code",
      "source": [
        "#part 2 Q1\n",
        "cities = (\"alxeandria\", \"Cairo\", \"Mansoura\", \"Monifua\", \"Sina\")\n",
        "\n",
        "second_city = cities[1]\n",
        "print(\"Second city in the tuple:\", second_city)\n",
        "\n",
        "#cities[1] = \"Berlin\"\n",
        "print(\"I can't change, Explanation: Tuples are immutable, meaning their values cannot be changed after creation.\")\n"
      ],
      "metadata": {
        "colab": {
          "base_uri": "https://localhost:8080/"
        },
        "id": "vkR6dusmuRt_",
        "outputId": "1f5cd3d1-c48a-4d16-8b6a-f52ed9088a54"
      },
      "execution_count": 9,
      "outputs": [
        {
          "output_type": "stream",
          "name": "stdout",
          "text": [
            "Second city in the tuple: Cairo\n",
            "I can't change, Explanation: Tuples are immutable, meaning their values cannot be changed after creation.\n"
          ]
        }
      ]
    },
    {
      "cell_type": "code",
      "source": [
        "# Part 2 Q2\n",
        "person = {'name': 'John', 'age': 30, 'city': 'New York'}\n",
        "print(\"Age:\", person['age'])\n",
        "person['job'] = 'Engineer'\n",
        "person.pop('city')\n",
        "print(\"Updated dictionary:\", person)\n",
        "\n"
      ],
      "metadata": {
        "colab": {
          "base_uri": "https://localhost:8080/"
        },
        "id": "4ny7j5zLu5oL",
        "outputId": "a564b03d-8e4a-42e0-dc0b-afb97ff2cf1b"
      },
      "execution_count": 10,
      "outputs": [
        {
          "output_type": "stream",
          "name": "stdout",
          "text": [
            "Age: 30\n",
            "Updated dictionary: {'name': 'John', 'age': 30, 'job': 'Engineer'}\n"
          ]
        }
      ]
    },
    {
      "cell_type": "code",
      "source": [
        "# Part 2 Q3\n",
        "people = {'Jana': 17, 'Nayara': 19, 'Omar': 21}\n",
        "for name, age in people.items():\n",
        "    print(f\"{name} is {age} years old.\")\n"
      ],
      "metadata": {
        "colab": {
          "base_uri": "https://localhost:8080/"
        },
        "id": "6tWe8a_Kvu2z",
        "outputId": "f0fe79cb-090a-441a-a4c7-aca054b35948"
      },
      "execution_count": 11,
      "outputs": [
        {
          "output_type": "stream",
          "name": "stdout",
          "text": [
            "Jana is 17 years old.\n",
            "Nayara is 19 years old.\n",
            "Omar is 21 years old.\n"
          ]
        }
      ]
    },
    {
      "cell_type": "code",
      "source": [
        "# Part 3 Q1\n",
        "while True:\n",
        "        age = int(input(\"Enter your age: \"))\n",
        "        if age > 0 :\n",
        "            if age >= 18:\n",
        "                print(\"Adult\")\n",
        "            else:\n",
        "                print(\"Minor\")\n",
        "            break\n",
        "        else:\n",
        "            print(\"Age cannot be negative or zero. Please enter a valid age.\")\n",
        "\n",
        "\n"
      ],
      "metadata": {
        "colab": {
          "base_uri": "https://localhost:8080/"
        },
        "id": "jltRftsMv1f3",
        "outputId": "bf30309a-6694-46e2-cc63-5f5c80668ad2"
      },
      "execution_count": 5,
      "outputs": [
        {
          "output_type": "stream",
          "name": "stdout",
          "text": [
            "Enter your age: 0\n",
            "Age cannot be negative or zero. Please enter a valid age.\n",
            "Enter your age: 21\n",
            "Adult\n"
          ]
        }
      ]
    },
    {
      "cell_type": "code",
      "source": [
        "#part 3 Q2\n",
        "number = int(input(\"Enter a number: \"))\n",
        "if number % 2 == 0:\n",
        "    print(\"Even\")\n",
        "else:\n",
        "    print(\"Odd\")\n"
      ],
      "metadata": {
        "colab": {
          "base_uri": "https://localhost:8080/"
        },
        "id": "1dYOAOtUzSZK",
        "outputId": "77c5a60e-da6f-4c3a-a5d3-09486f8c7d58"
      },
      "execution_count": 13,
      "outputs": [
        {
          "output_type": "stream",
          "name": "stdout",
          "text": [
            "Enter a number: 5\n",
            "Odd\n"
          ]
        }
      ]
    },
    {
      "cell_type": "code",
      "source": [
        "# Part 3 Q3\n",
        "while True:\n",
        "        score = int(input(\"Enter your score: \"))\n",
        "        if 0 <= score <= 100:\n",
        "            if score >= 90:\n",
        "                print(\"Grade: A\")\n",
        "            elif score >= 70:\n",
        "                print(\"Grade: B\")\n",
        "            elif score >= 50:\n",
        "                print(\"Grade: C\")\n",
        "            else:\n",
        "                print(\"Grade: F\")\n",
        "            break\n",
        "        else:\n",
        "            print(\"Error: Please enter a valid score between 0 and 100.\")\n",
        "\n",
        "\n"
      ],
      "metadata": {
        "colab": {
          "base_uri": "https://localhost:8080/"
        },
        "id": "M_104ULDze87",
        "outputId": "415c4d31-16eb-4d0c-f257-b0e9fe0d5144"
      },
      "execution_count": 17,
      "outputs": [
        {
          "output_type": "stream",
          "name": "stdout",
          "text": [
            "Enter your score: -100\n",
            "Error: Please enter a valid score between 0 and 100.\n",
            "Enter your score: 100\n",
            "Grade: A\n"
          ]
        }
      ]
    },
    {
      "cell_type": "code",
      "source": [
        "# Part 4 Q1\n",
        "for number in range(1, 21):\n",
        "    if number % 2 == 0:\n",
        "        print(number)\n"
      ],
      "metadata": {
        "colab": {
          "base_uri": "https://localhost:8080/"
        },
        "id": "70Bnl7m801Zb",
        "outputId": "dca3df54-dfd6-43d4-9bfe-94a2778c0aee"
      },
      "execution_count": 6,
      "outputs": [
        {
          "output_type": "stream",
          "name": "stdout",
          "text": [
            "2\n",
            "4\n",
            "6\n",
            "8\n",
            "10\n",
            "12\n",
            "14\n",
            "16\n",
            "18\n",
            "20\n"
          ]
        }
      ]
    },
    {
      "cell_type": "code",
      "source": [
        "# Part 4 Q2\n",
        "number = 10\n",
        "while number >= 1:\n",
        "    print(number)\n",
        "    number -= 1\n"
      ],
      "metadata": {
        "colab": {
          "base_uri": "https://localhost:8080/"
        },
        "id": "dMP8X1bY1cvD",
        "outputId": "5806cf7f-33bb-492b-9391-20797d6e897f"
      },
      "execution_count": 7,
      "outputs": [
        {
          "output_type": "stream",
          "name": "stdout",
          "text": [
            "10\n",
            "9\n",
            "8\n",
            "7\n",
            "6\n",
            "5\n",
            "4\n",
            "3\n",
            "2\n",
            "1\n"
          ]
        }
      ]
    },
    {
      "cell_type": "code",
      "source": [
        "#part 4 Q3\n",
        "while True:\n",
        "        num = int(input(\"Enter a number: \"))\n",
        "\n",
        "        total_sum = 0\n",
        "        if num >= 1:  # For positive numbers\n",
        "            for i in range(1, num + 1):\n",
        "                total_sum += i\n",
        "        else:  # For negative numbers\n",
        "            for i in range(1, num - 1, -1):\n",
        "                total_sum += i\n",
        "\n",
        "        print(f\"The sum of numbers from 1 to {num} is {total_sum}.\")\n",
        "        break\n",
        "\n"
      ],
      "metadata": {
        "colab": {
          "base_uri": "https://localhost:8080/"
        },
        "id": "M6CX673-16GU",
        "outputId": "fc524a9c-90ea-4acb-d515-4062be937c08"
      },
      "execution_count": 13,
      "outputs": [
        {
          "output_type": "stream",
          "name": "stdout",
          "text": [
            "Enter a number: -3\n",
            "The sum of numbers from 1 to -3 is -5.\n"
          ]
        }
      ]
    },
    {
      "cell_type": "code",
      "source": [
        "#part 5 Q1\n",
        "while True:\n",
        "        name = input(\"What is your name? \").strip()\n",
        "        if not name:\n",
        "            print(\"Name cannot be empty. Please try again.\")\n",
        "            continue\n",
        "        age = int(input(\"How old are you? \"))\n",
        "        if age > 0 :\n",
        "            print(f\"Hello, {name}! You are {age} years old.\")\n",
        "            break\n",
        "        else:\n",
        "            print(f\"{name}, Please enter a valid age.\")\n",
        "        print(f\"Hello, {name}! You are {age} years old.\")\n",
        "\n",
        "\n"
      ],
      "metadata": {
        "colab": {
          "base_uri": "https://localhost:8080/"
        },
        "id": "9T_ymgbG3fxk",
        "outputId": "7147b9a2-9cac-40b5-8375-55e58e92a320"
      },
      "execution_count": 17,
      "outputs": [
        {
          "output_type": "stream",
          "name": "stdout",
          "text": [
            "What is your name? Jana\n",
            "How old are you? 17\n",
            "Hello, Jana! You are 17 years old.\n"
          ]
        }
      ]
    },
    {
      "cell_type": "code",
      "source": [
        "#Bouns\n",
        "numbers = []\n",
        "print(\"Please enter 5 numbers:\")\n",
        "for i in range(5):\n",
        "    num = float(input(f\"Enter number {i+1}: \"))\n",
        "    numbers.append(num)\n",
        "    average = sum(numbers) / len(numbers)\n",
        "    largest = max(numbers)\n",
        "    smallest = min(numbers)\n",
        "print(f\"\\nThe numbers you entered: {numbers}\")\n",
        "print(f\"Average of the numbers: {average}\")\n",
        "print(f\"Largest number: {largest}\")\n",
        "print(f\"Smallest number: {smallest}\")\n",
        "\n"
      ],
      "metadata": {
        "colab": {
          "base_uri": "https://localhost:8080/"
        },
        "id": "2A61Csvl5Duo",
        "outputId": "4dcbe498-aedc-464e-d85d-cf2f5a3b5baf"
      },
      "execution_count": 19,
      "outputs": [
        {
          "output_type": "stream",
          "name": "stdout",
          "text": [
            "Please enter 5 numbers:\n",
            "Enter number 1: 1\n",
            "Enter number 2: 2\n",
            "Enter number 3: 3\n",
            "Enter number 4: 4\n",
            "Enter number 5: 5\n",
            "\n",
            "The numbers you entered: [1.0, 2.0, 3.0, 4.0, 5.0]\n",
            "Average of the numbers: 3.0\n",
            "Largest number: 5.0\n",
            "Smallest number: 1.0\n"
          ]
        }
      ]
    }
  ]
}