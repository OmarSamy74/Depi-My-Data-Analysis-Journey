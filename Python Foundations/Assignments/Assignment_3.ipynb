{
  "cells": [
    {
      "cell_type": "markdown",
      "metadata": {
        "id": "hbk6gZ-t8wHI"
      },
      "source": [
        "## Python Task 3"
      ]
    },
    {
      "cell_type": "markdown",
      "metadata": {
        "id": "P0OHuEmt8wHK"
      },
      "source": [
        "### Question: Count Vowels in a String\n",
        "\n",
        "**Description:** Write a function named count_vowels that takes a string as an argument and returns the count of vowels (a, e, i, o, u) in the string.\n",
        "\n",
        "The function should be case-insensitive, counting both uppercase and lowercase vowels.\n"
      ]
    },
    {
      "cell_type": "code",
      "execution_count": null,
      "metadata": {
        "id": "MWg8pPkX8wHK"
      },
      "outputs": [],
      "source": [
        "'''\n",
        "# Example Input:\n",
        "text = \"Hello World\"\n",
        "# Expected Output:\n",
        "3\n",
        "'''\n"
      ]
    },
    {
      "cell_type": "code",
      "execution_count": 3,
      "metadata": {
        "colab": {
          "base_uri": "https://localhost:8080/"
        },
        "id": "-Dshikdx8wHL",
        "outputId": "f984c6b5-43e7-473f-96e3-1ca57c1c78c9"
      },
      "outputs": [
        {
          "output_type": "stream",
          "name": "stdout",
          "text": [
            "Enter a string: Hello World\n",
            "The number of vowels in the string is: 3\n"
          ]
        }
      ],
      "source": [
        "def count_vowels(s):\n",
        "     vowels = \"aeiou\"\n",
        "     s = s.lower()\n",
        "     vowel_count = sum(1 for char in s if char in vowels)\n",
        "     return vowel_count\n",
        "string = input(\"Enter a string: \")\n",
        "print(f\"The number of is: {count_vowels(string)}\")\n"
      ]
    },
    {
      "cell_type": "markdown",
      "metadata": {
        "id": "rrwaYLnm8wHM"
      },
      "source": [
        "### Question: Find the Maximum Value in a List Using a Function\n",
        "Description: Write a function named find_max that takes a list of integers as an argument and returns the maximum value in the list.\n",
        "\n",
        "Do not use Python’s built-in max() function. The function should handle cases where the list is empty by returning None.\n"
      ]
    },
    {
      "cell_type": "code",
      "execution_count": null,
      "metadata": {
        "id": "rIYlPJAH8wHM"
      },
      "outputs": [],
      "source": [
        "'''\n",
        "# Example Input:\n",
        "numbers = [3, 5, 2, 8, 1]\n",
        "# Expected Output:\n",
        "8\n",
        "'''"
      ]
    },
    {
      "cell_type": "code",
      "execution_count": 7,
      "metadata": {
        "colab": {
          "base_uri": "https://localhost:8080/"
        },
        "id": "9sTazhcd8wHM",
        "outputId": "c5a37b8c-3ea1-4b39-df11-36cb07804b26"
      },
      "outputs": [
        {
          "output_type": "stream",
          "name": "stdout",
          "text": [
            "Enter a list of integers separated by spaces:  3 5 8 2 10 2 5\n",
            "The maximum value in the list is: 10\n"
          ]
        }
      ],
      "source": [
        "def find_max(x):\n",
        "        numbers = []\n",
        "        for item in x:\n",
        "            numbers.append(int(item))\n",
        "        max_value = numbers[0]\n",
        "        for num in numbers:\n",
        "            if num > max_value:\n",
        "                max_value = num\n",
        "\n",
        "        return max_value\n",
        "numbers = input(\"Enter a list of integers separated by spaces: \").split()\n",
        "\n",
        "print(f\"The maximum value in the list is: {find_max(numbers)}\")\n"
      ]
    }
  ],
  "metadata": {
    "kernelspec": {
      "display_name": "base",
      "language": "python",
      "name": "python3"
    },
    "language_info": {
      "codemirror_mode": {
        "name": "ipython",
        "version": 3
      },
      "file_extension": ".py",
      "mimetype": "text/x-python",
      "name": "python",
      "nbconvert_exporter": "python",
      "pygments_lexer": "ipython3",
      "version": "3.11.5"
    },
    "colab": {
      "provenance": []
    }
  },
  "nbformat": 4,
  "nbformat_minor": 0
}