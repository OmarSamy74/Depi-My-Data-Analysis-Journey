{
  "cells": [
    {
      "cell_type": "markdown",
      "metadata": {
        "id": "KG7BUzNr62l_"
      },
      "source": []
    },
    {
      "cell_type": "markdown",
      "metadata": {
        "id": "t0zdmhDm62mB"
      },
      "source": [
        "## 1. Strings:\n",
        "\n",
        "Question:\n",
        "\n",
        "\n",
        "Write a Python program that takes a sentence as input and counts the number of vowels (a, e, i, o, u) in the sentence.\n",
        "\n",
        "Example:"
      ]
    },
    {
      "cell_type": "code",
      "execution_count": null,
      "metadata": {
        "id": "CH2fW01b62mC"
      },
      "outputs": [],
      "source": [
        "# Input: \"Hello World\"\n",
        "# Output: 3"
      ]
    },
    {
      "cell_type": "code",
      "execution_count": null,
      "metadata": {
        "colab": {
          "base_uri": "https://localhost:8080/"
        },
        "id": "kzgJn30W62mC",
        "outputId": "249214dd-a74a-43a3-e772-b70f38bcf4f7"
      },
      "outputs": [
        {
          "output_type": "stream",
          "name": "stdout",
          "text": [
            "Enter a sentence: Hello World\n",
            "The number of vowels in the sentence is: 3\n"
          ]
        }
      ],
      "source": [
        "sentence = input(\"Enter a sentence: \")\n",
        "vowels = \"aeiouAEIOU\"\n",
        "vowel_count = 0\n",
        "for char in sentence:\n",
        "    if char in vowels:\n",
        "        vowel_count += 1\n",
        "print(f\"The number of vowels in the sentence is: {vowel_count}\")\n"
      ]
    },
    {
      "cell_type": "markdown",
      "metadata": {
        "id": "1tyDAk7362mD"
      },
      "source": [
        "## 2. Lists:\n",
        "\n",
        "\n",
        "Question:\n",
        "\n",
        "\n",
        "Given a list of numbers [1, 3, 5, 7, 9], write a Python program to double each element in the list and store the result in a new list.\n",
        "\n",
        "Example:"
      ]
    },
    {
      "cell_type": "code",
      "execution_count": null,
      "metadata": {
        "id": "029Qux7L62mD"
      },
      "outputs": [],
      "source": [
        "# Original List: [1, 3, 5, 7, 9]\n",
        "# New List: [2, 6, 10, 14, 18]"
      ]
    },
    {
      "cell_type": "code",
      "execution_count": null,
      "metadata": {
        "colab": {
          "base_uri": "https://localhost:8080/"
        },
        "id": "PY2sVxbY62mE",
        "outputId": "f72241ec-a99f-4ad7-878e-9a7c1b237942"
      },
      "outputs": [
        {
          "output_type": "stream",
          "name": "stdout",
          "text": [
            "Original list: [1, 3, 5, 7, 9]\n",
            "Doubled list: [2, 6, 10, 14, 18]\n"
          ]
        }
      ],
      "source": [
        "numbers = [1, 3, 5, 7, 9]\n",
        "double = [number * 2 for number in numbers]\n",
        "print(f\"Original list: {numbers}\")\n",
        "print(f\"Doubled list: {double}\")\n"
      ]
    },
    {
      "cell_type": "markdown",
      "metadata": {
        "id": "E1XDFmBs62mE"
      },
      "source": [
        "## 3. Sets:\n",
        "\n",
        "Question:\n",
        "\n",
        "\n",
        "Create two sets: set1 = {1, 2, 3, 4} and set2 = {3, 4, 5, 6}. Write a Python program to find the union and intersection of the two sets.\n",
        "\n",
        "Example:"
      ]
    },
    {
      "cell_type": "code",
      "execution_count": null,
      "metadata": {
        "id": "vlDYlrbW62mE"
      },
      "outputs": [],
      "source": [
        "# set1: {1, 2, 3, 4}\n",
        "# set2: {3, 4, 5, 6}\n",
        "# Union: {1, 2, 3, 4, 5, 6}\n",
        "# Intersection: {3, 4}"
      ]
    },
    {
      "cell_type": "code",
      "execution_count": null,
      "metadata": {
        "colab": {
          "base_uri": "https://localhost:8080/"
        },
        "id": "PuD4q80l62mE",
        "outputId": "2bb88fe8-6845-4a31-88c0-0fefe54c48af"
      },
      "outputs": [
        {
          "output_type": "stream",
          "name": "stdout",
          "text": [
            "Set1: {1, 2, 3, 4}\n",
            "Set2: {3, 4, 5, 6}\n",
            "Union: {1, 2, 3, 4, 5, 6}\n",
            "Intersection: {3, 4}\n"
          ]
        }
      ],
      "source": [
        "set1 = {1, 2, 3, 4}\n",
        "set2 = {3, 4, 5, 6}\n",
        "union_set = set1.union(set2)\n",
        "intersection_set = set1.intersection(set2)\n",
        "print(f\"Set1: {set1}\")\n",
        "print(f\"Set2: {set2}\")\n",
        "print(f\"Union: {union_set}\")\n",
        "print(f\"Intersection: {intersection_set}\")\n"
      ]
    },
    {
      "cell_type": "markdown",
      "metadata": {
        "id": "7Pugb00862mF"
      },
      "source": [
        "## 4. Dictionaries:\n",
        "\n",
        "Question:\n",
        "\n",
        "\n",
        "Given a dictionary {'a': 1, 'b': 2, 'c': 3}, write a Python program to swap the keys and values, so the resulting dictionary becomes {1: 'a', 2: 'b', 3: 'c'}.\n",
        "\n",
        "Example:"
      ]
    },
    {
      "cell_type": "code",
      "execution_count": null,
      "metadata": {
        "id": "gSAX5dAd62mG"
      },
      "outputs": [],
      "source": [
        "# Original Dictionary: {'a': 1, 'b': 2, 'c': 3}\n",
        "# Updated Dictionary: {1: 'a', 2: 'b', 3: 'c'}"
      ]
    },
    {
      "cell_type": "code",
      "execution_count": null,
      "metadata": {
        "colab": {
          "base_uri": "https://localhost:8080/"
        },
        "id": "leh-48UH62mJ",
        "outputId": "69eb0708-0721-434f-f9e1-3e6aebba9d2a"
      },
      "outputs": [
        {
          "output_type": "stream",
          "name": "stdout",
          "text": [
            "Original dictionary: {'a': 1, 'b': 2, 'c': 3}\n",
            "Swapped dictionary: {1: 'a', 2: 'b', 3: 'c'}\n"
          ]
        }
      ],
      "source": [
        "dict1 = {'a': 1, 'b': 2, 'c': 3}\n",
        "swapped_dict = {value: key for key, value in dict1.items()}\n",
        "\n",
        "print(f\"Original dictionary: {dict1}\")\n",
        "print(f\"Swapped dictionary: {swapped_dict}\")\n"
      ]
    },
    {
      "cell_type": "markdown",
      "metadata": {
        "id": "czBe7kXH62mJ"
      },
      "source": [
        "## 5. Tuples:\n",
        "\n",
        "Question:\n",
        "\n",
        "Given a tuple (5, 10, 15, 20), write a Python program to convert it into a list, change the second element to 12, and then convert it back to a tuple.\n",
        "\n",
        "Example:"
      ]
    },
    {
      "cell_type": "code",
      "execution_count": null,
      "metadata": {
        "id": "Zjope4xb62mJ"
      },
      "outputs": [],
      "source": [
        "# Original Tuple: (5, 10, 15, 20)\n",
        "# Updated Tuple: (5, 12, 15, 20)"
      ]
    },
    {
      "cell_type": "code",
      "execution_count": null,
      "metadata": {
        "colab": {
          "base_uri": "https://localhost:8080/"
        },
        "id": "m_SenkbU62mJ",
        "outputId": "e57d5568-cf1e-42a0-f12e-d2209259df59"
      },
      "outputs": [
        {
          "output_type": "stream",
          "name": "stdout",
          "text": [
            "Original tuple: (5, 10, 15, 20)\n",
            "Modified tuple: (5, 12, 15, 20)\n"
          ]
        }
      ],
      "source": [
        "original_tuple = (5, 10, 15, 20)\n",
        "temp_list = list(original_tuple)\n",
        "temp_list[1] = 12\n",
        "modified_tuple = tuple(temp_list)\n",
        "print(f\"Original tuple: {original_tuple}\")\n",
        "print(f\"Modified tuple: {modified_tuple}\")\n"
      ]
    },
    {
      "cell_type": "markdown",
      "metadata": {
        "id": "aXJju9wQ62mK"
      },
      "source": [
        "## 6. Functions:\n",
        "\n",
        "Question:\n",
        "\n",
        "Write a Python function named is_palindrome that takes a string as input and returns True if the string is a palindrome (reads the same forwards and backwards), and False otherwise.\n",
        "\n",
        "Example:"
      ]
    },
    {
      "cell_type": "code",
      "execution_count": null,
      "metadata": {
        "id": "nDjfdg9v62mK"
      },
      "outputs": [],
      "source": [
        "# Input: \"radar\"\n",
        "# Output: True\n",
        "\n",
        "# Input: \"hello\"\n",
        "# Output: False"
      ]
    },
    {
      "cell_type": "code",
      "execution_count": 10,
      "metadata": {
        "id": "5Y6gAprj62mL",
        "colab": {
          "base_uri": "https://localhost:8080/"
        },
        "outputId": "48b45447-651d-4a7a-9361-18acc4e59d42"
      },
      "outputs": [
        {
          "output_type": "stream",
          "name": "stdout",
          "text": [
            "Enter a string: radar\n",
            "True\n"
          ]
        }
      ],
      "source": [
        "def is_palindrome(s):\n",
        "    clean = ''.join(char.lower() for char in s if char.isalnum())\n",
        "    return clean == clean[::-1]\n",
        "\n",
        "x=input(\"Enter a string: \")\n",
        "print(is_palindrome(x))\n",
        "\n"
      ]
    },
    {
      "cell_type": "markdown",
      "metadata": {
        "id": "4Bwf6k4a62mM"
      },
      "source": [
        "## 7. Functions:\n",
        "\n",
        "Question:\n",
        "\n",
        "Write a Python function named count_occurrences that takes two arguments: a list of integers and a target integer. The function should return a dictionary where the keys are the unique integers from the list, and the values are the number of times each integer occurs in the list. Additionally, if the target integer is present in the list, the function should also include the key \"target_count\" with its value being the number of times the target integer occurs.\n"
      ]
    },
    {
      "cell_type": "code",
      "execution_count": null,
      "metadata": {
        "id": "P2m0-2ge62mM"
      },
      "outputs": [],
      "source": [
        "# Input: [1, 2, 2, 3, 4, 2, 5], target = 2\n",
        "# Output: {1: 1, 2: 3, 3: 1, 4: 1, 5: 1, 'target_count': 3}\n",
        "\n",
        "# Input: [10, 10, 20, 30], target = 25\n",
        "# Output: {10: 2, 20: 1, 30: 1}"
      ]
    },
    {
      "cell_type": "code",
      "execution_count": 11,
      "metadata": {
        "id": "saXYpOyi62mM",
        "colab": {
          "base_uri": "https://localhost:8080/"
        },
        "outputId": "418c4130-6811-434e-f863-07d212d4604e"
      },
      "outputs": [
        {
          "output_type": "stream",
          "name": "stdout",
          "text": [
            "Enter a list of integers separated by spaces: 1 2 2 3 4 2 5\n",
            "Enter the target integer: 2\n",
            "{1: 1, 2: 3, 3: 1, 4: 1, 5: 1, 'target_count': 3}\n"
          ]
        }
      ],
      "source": [
        "def count_occurrences(nums, target):\n",
        "    count_dict = {}\n",
        "    for num in nums:\n",
        "        count_dict[num] = count_dict.get(num, 0) + 1\n",
        "    if target in count_dict:\n",
        "        count_dict[\"target_count\"] = count_dict[target]\n",
        "    return count_dict\n",
        "nums_input = input(\"Enter a list of integers separated by spaces: \").split()\n",
        "nums = [int(num) for num in nums_input]\n",
        "target = int(input(\"Enter the target integer: \"))\n",
        "result = count_occurrences(nums, target)\n",
        "print(result)\n"
      ]
    },
    {
      "cell_type": "markdown",
      "metadata": {
        "id": "H-OSLupY62mN"
      },
      "source": [
        "## 8. while loop:\n",
        "Write a Python program that uses a while loop to generate a sequence of numbers starting from 1. The loop should continue generating numbers and adding them to a list until the sum of all numbers in the list exceeds 200. After the loop, print the list of numbers and the total sum of the numbers.\n",
        "\n",
        "Example:"
      ]
    },
    {
      "cell_type": "code",
      "execution_count": 13,
      "metadata": {
        "id": "QV8SA8Ad62mN",
        "colab": {
          "base_uri": "https://localhost:8080/"
        },
        "outputId": "5a634a9e-870a-4174-806a-ec572671e697"
      },
      "outputs": [
        {
          "output_type": "stream",
          "name": "stdout",
          "text": [
            "List of numbers: [1, 2, 3, 4, 5, 6, 7, 8, 9, 10, 11, 12, 13, 14, 15, 16, 17, 18, 19, 20]\n",
            "Total sum: 210\n"
          ]
        }
      ],
      "source": [
        "numbers = []\n",
        "total_sum = 0\n",
        "current_number = 1\n",
        "\n",
        "while total_sum <= 200:\n",
        "    numbers.append(current_number)\n",
        "    total_sum += current_number\n",
        "    current_number += 1\n",
        "\n",
        "print(\"List of numbers:\", numbers)\n",
        "print(\"Total sum:\", total_sum)\n"
      ]
    },
    {
      "cell_type": "markdown",
      "metadata": {
        "id": "_J4DYiIH62mO"
      },
      "source": [
        "## 9. Question:\n",
        "\n",
        "Write a Python function named remove_duplicates that takes a list of integers as input and returns a new list with duplicate values removed.\n",
        "\n",
        "The order of the original list should be preserved in the new list.\n",
        "\n",
        "Example:"
      ]
    },
    {
      "cell_type": "code",
      "execution_count": null,
      "metadata": {
        "id": "khXfZmZS62mO"
      },
      "outputs": [],
      "source": [
        "# Input: [1, 2, 2, 3, 4, 4, 5]\n",
        "# Output: [1, 2, 3, 4, 5]"
      ]
    },
    {
      "cell_type": "code",
      "execution_count": null,
      "metadata": {
        "id": "iA-sw14L62mO",
        "outputId": "afc0ae48-98a1-4c61-a04e-0a3b42119b6d"
      },
      "outputs": [
        {
          "name": "stdout",
          "output_type": "stream",
          "text": [
            "[1, 2, 3, 4, 5]\n"
          ]
        }
      ],
      "source": [
        "# Incorrect Solution:\n",
        "def remove_duplicates(numbers):\n",
        "    unique_numbers = []\n",
        "    for num in numbers:\n",
        "        if num not in unique_numbers:\n",
        "            unique_numbers.append(num)\n",
        "    return unique_numbers\n",
        "\n",
        "# Example usage:\n",
        "print(remove_duplicates([1, 2, 2, 3, 4, 4, 5]))  # Output: [1, 2, 3, 4, 5]\n"
      ]
    },
    {
      "cell_type": "markdown",
      "metadata": {
        "id": "6UY1zfS462mP"
      },
      "source": [
        "### Explanation of the Incorrect Solution:\n",
        "\n",
        "This approach is actually correct in removing duplicates while preserving the order of the original list. The list unique_numbers is built by appending numbers that are not already in the list. It ensures that duplicates are removed while preserving the original order.\n",
        "\n",
        "\n",
        "Question:\n",
        "\n",
        "\n",
        "Is there a more efficient way to solve this problem that might improve performance, especially with larger lists? What could be a better approach?"
      ]
    },
    {
      "cell_type": "markdown",
      "metadata": {
        "id": "j073TTF462mQ"
      },
      "source": [
        "### Optimized Solution:\n",
        "\n",
        "Explanation:\n",
        "\n",
        "Using a set helps in quickly checking for duplicates, as set operations are average O(1) in time complexity.\n",
        "The set is used to track seen numbers, and a list is used to maintain the order of unique elements.\n",
        "#### Optimized Code:"
      ]
    },
    {
      "cell_type": "markdown",
      "metadata": {
        "id": "dsgx90YO62mQ"
      },
      "source": [
        "#### Explanation of the Optimized Solution:\n",
        "1. Set Usage: A set called seen is used to keep track of numbers that have already been encountered. This ensures each number is only added to the unique_numbers list once.\n",
        "2. Order Preservation: The unique_numbers list maintains the order of the first occurrence of each unique number.\n",
        "3. Efficiency: The in operation on a set is more efficient than a list due to the set's hashing mechanism.\n",
        "\n",
        "\n",
        "This approach reduces the overall time complexity by avoiding multiple membership checks on the list, making it more suitable for larger datasets."
      ]
    },
    {
      "cell_type": "code",
      "execution_count": 14,
      "metadata": {
        "id": "8jYmqN3k62mQ",
        "colab": {
          "base_uri": "https://localhost:8080/"
        },
        "outputId": "f675fc58-b7af-4294-a5f1-7f79a940df64"
      },
      "outputs": [
        {
          "output_type": "stream",
          "name": "stdout",
          "text": [
            "[1, 2, 3, 4, 5]\n"
          ]
        }
      ],
      "source": [
        "def remove_duplicates(numbers):\n",
        "    unique_numbers = []\n",
        "    seen = set()\n",
        "    for num in numbers:\n",
        "        if num not in seen:\n",
        "            unique_numbers.append(num)\n",
        "            seen.add(num)\n",
        "    return unique_numbers\n",
        "\n",
        "print(remove_duplicates([1, 2, 2, 3, 4, 4, 5]))\n"
      ]
    },
    {
      "cell_type": "markdown",
      "metadata": {
        "id": "nol3Kt7062mR"
      },
      "source": [
        "## 10. Question:\n",
        "Write a Python program that takes a list of words as input and creates a dictionary where the keys are the unique words in the list, and the values are lists containing the indices (positions) at which each word appears in the list.\n",
        "\n",
        "Expected Output:\n",
        "\n",
        "If the input list is [\"apple\", \"banana\", \"orange\", \"banana\", \"kiwi\", \"apple\"], the program should return {'apple': [0], 'banana': [1], 'orange': [3], 'kiwi': [4]}.\n",
        "Please write the Python code to accomplish this task."
      ]
    },
    {
      "cell_type": "code",
      "execution_count": 15,
      "metadata": {
        "id": "xMEphr3862mR",
        "colab": {
          "base_uri": "https://localhost:8080/"
        },
        "outputId": "43e460a1-3da7-4c03-9c32-d5fe5301650d"
      },
      "outputs": [
        {
          "output_type": "stream",
          "name": "stdout",
          "text": [
            "{'apple': [0, 5], 'banana': [1, 3], 'orange': [2], 'kiwi': [4]}\n"
          ]
        }
      ],
      "source": [
        "def create_word_index_dict(words):\n",
        "    word_index_dict = {}\n",
        "    for index, word in enumerate(words):\n",
        "        if word in word_index_dict:\n",
        "            word_index_dict[word].append(index)\n",
        "        else:\n",
        "            word_index_dict[word] = [index]\n",
        "    return word_index_dict\n",
        "\n",
        "words = [\"apple\", \"banana\", \"orange\", \"banana\", \"kiwi\", \"apple\"]\n",
        "result = create_word_index_dict(words)\n",
        "print(result)\n"
      ]
    }
  ],
  "metadata": {
    "kernelspec": {
      "display_name": "base",
      "language": "python",
      "name": "python3"
    },
    "language_info": {
      "codemirror_mode": {
        "name": "ipython",
        "version": 3
      },
      "file_extension": ".py",
      "mimetype": "text/x-python",
      "name": "python",
      "nbconvert_exporter": "python",
      "pygments_lexer": "ipython3",
      "version": "3.11.5"
    },
    "colab": {
      "provenance": []
    }
  },
  "nbformat": 4,
  "nbformat_minor": 0
}